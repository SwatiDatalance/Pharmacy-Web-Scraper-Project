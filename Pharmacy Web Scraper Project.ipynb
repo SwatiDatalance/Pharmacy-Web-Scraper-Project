{
 "cells": [
  {
   "cell_type": "code",
   "execution_count": 2,
   "id": "5fe8ce92",
   "metadata": {},
   "outputs": [],
   "source": [
    "# import libraries \n",
    "\n",
    "from bs4 import BeautifulSoup\n",
    "import requests\n",
    "import time\n",
    "import datetime\n",
    "\n",
    "import smtplib"
   ]
  },
  {
   "cell_type": "code",
   "execution_count": 39,
   "id": "0ff14e3a",
   "metadata": {},
   "outputs": [
    {
     "name": "stdout",
     "output_type": "stream",
     "text": [
      "\n",
      "                Bioderma Atoderm Shower Oil 200ml\n",
      "               \n",
      "\n",
      "\n",
      "                   AED\n",
      "                  \n",
      "                  43.37\n",
      "                 \n"
     ]
    }
   ],
   "source": [
    "# Connect to Website and pull in data\n",
    "\n",
    "URL = 'https://www.lifepharmacy.com/product/bd-atoderm-shower-oil-200ml'\n",
    "\n",
    "headers = {\"User-Agent\": \"Mozilla/5.0 (Windows NT 10.0; Win64; x64) AppleWebKit/537.36 (KHTML, like Gecko) Chrome/124.0.0.0 Safari/537.36\", \"Accept-Encoding\":\"gzip, deflate\", \"Accept\":\"text/html,application/xhtml+xml,application/xml;q=0.9,*/*;q=0.8\", \"DNT\":\"1\",\"Connection\":\"close\", \"Upgrade-Insecure-Requests\":\"1\"}\n",
    "\n",
    "page = requests.get(URL, headers=headers)\n",
    "\n",
    "soup1 = BeautifulSoup(page.content, \"html.parser\")\n",
    "\n",
    "soup2 = BeautifulSoup(soup1.prettify(), \"html.parser\")\n",
    "\n",
    "title = soup2.find(class_=\"product-title text-life\").get_text()\n",
    "\n",
    "price = soup2.find(class_=\"new-price\").get_text()\n",
    "\n",
    "print(title)\n",
    "print(price)\n",
    "\n",
    "\n"
   ]
  },
  {
   "cell_type": "code",
   "execution_count": 40,
   "id": "bbab71e9",
   "metadata": {},
   "outputs": [
    {
     "name": "stdout",
     "output_type": "stream",
     "text": [
      "Bioderma Atoderm Shower Oil 200ml\n",
      "AED 43.37\n"
     ]
    }
   ],
   "source": [
    "# price is a string with the price and currency abbreviation on the same line separated by a space, and title is a string with leading/trailing spaces\n",
    "\n",
    "parts = price.strip().split()  # Split the price string by space\n",
    "\n",
    "# Check if there are two parts and extract accordingly\n",
    "if len(parts) == 2:\n",
    "    title = title.strip()  # Remove leading/trailing spaces from the title\n",
    "    currency = parts[0].strip()  # Extract currency abbreviation\n",
    "    price = parts[1].strip()  # Extract the price\n",
    "    print(title)\n",
    "    print(currency, price)\n"
   ]
  },
  {
   "cell_type": "code",
   "execution_count": 41,
   "id": "13791c67",
   "metadata": {},
   "outputs": [
    {
     "name": "stdout",
     "output_type": "stream",
     "text": [
      "2024-05-16\n"
     ]
    }
   ],
   "source": [
    "# Create a Timestamp for the output to track when data was collected\n",
    "\n",
    "import datetime\n",
    "\n",
    "today = datetime.date.today()\n",
    "\n",
    "print(today)"
   ]
  },
  {
   "cell_type": "code",
   "execution_count": 45,
   "id": "ee20c81d",
   "metadata": {},
   "outputs": [],
   "source": [
    "# Create CSV and write headers and data into the file\n",
    "\n",
    "import csv \n",
    "\n",
    "header = ['Title', 'Price', 'Date']\n",
    "data = [title, price, today]\n",
    "\n",
    "\n",
    "with open('PharmacyWebScraperDataset.csv', 'w', newline='', encoding='UTF8') as f:\n",
    "    writer = csv.writer(f)\n",
    "    writer.writerow(header)\n",
    "    writer.writerow(data)\n",
    "    "
   ]
  },
  {
   "cell_type": "code",
   "execution_count": 46,
   "id": "3afda4bd",
   "metadata": {},
   "outputs": [
    {
     "name": "stdout",
     "output_type": "stream",
     "text": [
      "                               Title  Price        Date\n",
      "0  Bioderma Atoderm Shower Oil 200ml  43.37  2024-05-16\n"
     ]
    }
   ],
   "source": [
    "import pandas as pd\n",
    "\n",
    "df = pd.read_csv(r'C:\\Users\\swati\\PharmacyWebScraperDataset.csv')\n",
    "\n",
    "print(df)\n"
   ]
  },
  {
   "cell_type": "code",
   "execution_count": null,
   "id": "40b6e50c",
   "metadata": {},
   "outputs": [],
   "source": [
    "# Now we are appending data to the csv\n",
    "\n",
    "with open('PharmacyWebScraperDataset.csv', 'a+', newline='', encoding='UTF8') as f:\n",
    "    writer = csv.writer(f)\n",
    "    writer.writerow(data)"
   ]
  },
  {
   "cell_type": "code",
   "execution_count": 59,
   "id": "d8ca2065",
   "metadata": {},
   "outputs": [],
   "source": [
    "#Combine all of the above code into one function\n",
    "\n",
    "\n",
    "def check_price():\n",
    "    URL = 'https://www.lifepharmacy.com/product/bd-atoderm-shower-oil-200ml'\n",
    "\n",
    "    headers = {\"User-Agent\": \"Mozilla/5.0 (Windows NT 10.0; Win64; x64) AppleWebKit/537.36 (KHTML, like Gecko) Chrome/124.0.0.0 Safari/537.36\", \"Accept-Encoding\":\"gzip, deflate\", \"Accept\":\"text/html,application/xhtml+xml,application/xml;q=0.9,*/*;q=0.8\", \"DNT\":\"1\",\"Connection\":\"close\", \"Upgrade-Insecure-Requests\":\"1\"}\n",
    "\n",
    "    page = requests.get(URL, headers=headers)\n",
    "\n",
    "    soup1 = BeautifulSoup(page.content, \"html.parser\")\n",
    "\n",
    "    soup2 = BeautifulSoup(soup1.prettify(), \"html.parser\")\n",
    "\n",
    "    title = soup2.find(class_=\"product-title text-life\").get_text()\n",
    "\n",
    "    price = soup2.find(class_=\"new-price\").get_text()\n",
    "\n",
    "    parts = price.strip().split()\n",
    "\n",
    "    if len(parts) == 2:\n",
    "        title = title.strip() \n",
    "        currency = parts[0].strip() \n",
    "        price = parts[1].strip()  \n",
    "        print(title)\n",
    "        print(currency, price)\n",
    "        \n",
    "    import datetime\n",
    "    today = datetime.date.today()\n",
    "    print(today)\n",
    " \n",
    "    #import csv \n",
    "    #header = ['Title', 'Price', 'Date']\n",
    "    #data = [title, price, today]\n",
    "    #with open('PharmacyWebScraperDataset.csv', 'w', newline='', encoding='UTF8') as f:\n",
    "        #writer = csv.writer(f)\n",
    "        #writer.writerow(header)\n",
    "        #writer.writerow(data)\n",
    "        "
   ]
  },
  {
   "cell_type": "code",
   "execution_count": null,
   "id": "b906e4bb",
   "metadata": {},
   "outputs": [
    {
     "name": "stdout",
     "output_type": "stream",
     "text": [
      "Bioderma Atoderm Shower Oil 200ml\n",
      "AED 43.37\n",
      "2024-05-16\n"
     ]
    }
   ],
   "source": [
    "# Runs check_price after a set time and inputs data into your CSV\n",
    "\n",
    "while(True):\n",
    "    check_price()\n",
    "    time.sleep(86400)"
   ]
  }
 ],
 "metadata": {
  "kernelspec": {
   "display_name": "Python 3 (ipykernel)",
   "language": "python",
   "name": "python3"
  },
  "language_info": {
   "codemirror_mode": {
    "name": "ipython",
    "version": 3
   },
   "file_extension": ".py",
   "mimetype": "text/x-python",
   "name": "python",
   "nbconvert_exporter": "python",
   "pygments_lexer": "ipython3",
   "version": "3.10.9"
  }
 },
 "nbformat": 4,
 "nbformat_minor": 5
}
